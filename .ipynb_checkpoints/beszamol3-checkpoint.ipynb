{
 "cells": [
  {
   "cell_type": "markdown",
   "metadata": {},
   "source": [
    "Az elvégzett munkát a \n",
    "[https://github.com/czylabsonasa/beszamol](https://github.com/czylabsonasa/beszamol) -helyen dokumentáltuk."
   ]
  },
  {
   "cell_type": "markdown",
   "metadata": {},
   "source": [
    "# N-klikk és N-csillag modell\n",
    "A fenti két modell generátorát valósítottuk meg egy egyszerű, header alapú c++-könyvtár részeként. Az implementáció megtalálható a \n",
    "[https://github.com/czylabsonasa/hlib](https://github.com/czylabsonasa/hlib) helyen."
   ]
  },
  {
   "cell_type": "markdown",
   "metadata": {},
   "source": [
    "# Tulajdonságok\n",
    "A következőket tulajdonságokat vizsgáltuk meg a fenti két modell esetében a programunkkal:\n",
    "* skála-függetlenség\n",
    "* klaszterosodási együttható\n",
    "* átmérő\n"
   ]
  },
  {
   "cell_type": "markdown",
   "metadata": {
    "collapsed": true
   },
   "source": [
    "# Szimuláció\n",
    "Szimulációkat végeztünk mindkét modell esetén, a következő eredményekkel:\n",
    "* skála-függetlenség:\n",
    "    * N-klikk modell: az ismert eredményeknek megfelelőt tapasztaltunk\n",
    "    * N-csillag: a részben bizonyított eredményeknek megfelelőt tapasztaltunk\n",
    "* klaszterosodási együttható:\n",
    "    * N-klikk modell: stabilizálódás (konvergencia) figyelhető meg\n",
    "    * N-csillag modell: gyors csökkenés tapasztalható a lépésszám függvényében\n",
    "* átmérő\n",
    "    * mindkét modell esetén $O(\\log n)$ stabilitás figyelhető meg.\n",
    "\n"
   ]
  },
  {
   "cell_type": "markdown",
   "metadata": {},
   "source": [
    "# Átmérő\n",
    "A nagy gráfok pontos átmérőjét számoló algoritmusok közül a Marino et al.: Finding the diameter in real-world graphs (Algorithms--ESA 2010)-ban leírtakat valósítottuk meg, mellyel további osszehasonlító kísérleteket végeztünk - eredményeink szerint a fenti algoritmus gyorsabb pl. \n",
    "az $igraph$ csomagban mevalósítottnál.\n",
    "\n"
   ]
  }
 ],
 "metadata": {
  "hide_input": false,
  "kernelspec": {
   "display_name": "Python 3",
   "language": "python",
   "name": "python3"
  },
  "language_info": {
   "codemirror_mode": {
    "name": "ipython",
    "version": 3
   },
   "file_extension": ".py",
   "mimetype": "text/x-python",
   "name": "python",
   "nbconvert_exporter": "python",
   "pygments_lexer": "ipython3",
   "version": "3.6.3"
  }
 },
 "nbformat": 4,
 "nbformat_minor": 2
}
