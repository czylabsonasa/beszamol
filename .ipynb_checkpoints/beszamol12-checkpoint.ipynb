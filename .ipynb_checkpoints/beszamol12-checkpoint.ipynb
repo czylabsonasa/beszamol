{
 "cells": [
  {
   "cell_type": "markdown",
   "metadata": {},
   "source": [
    "Az elvégzett munkát a \n",
    "[https://github.com/czylabsonasa/barabasinb](https://github.com/czylabsonasa/barabasinb) -helyen dokumentáltuk."
   ]
  },
  {
   "cell_type": "markdown",
   "metadata": {},
   "source": [
    "# Referencia implementáció\n",
    "Elsőként a véletlengráf-modellek állatorvosi lovát a Barabási-modellt valósítottuk meg c++ nyelven. A gráfábrázolás éllistával történik, mely egyszerűen implementálható és a segítségével a \"preferential attachment\" választás egyenletes választássá redukálódik. A megvalósítás megtalálható a \n",
    "[lang/cc/barabasi.cc](lang/cc/barabasi.cc)-helyen"
   ]
  },
  {
   "cell_type": "markdown",
   "metadata": {},
   "source": [
    "# Nyelvek\n",
    "Programozási nyelvek/környezetek sokasága áll a kutatók/oktatók rendelkezésére - a nehézséget nem az erőforrások elérése, inkább az adott feladathoz a \"legjobb\" nyelv/környezet kiválasztása jelenti, melynek megoldásához a Jupyter környezet  ([http://www.jupyter.org](http://www.jupyter.org)) óriási segítség: egységes felületet biztosít rengeteg nyelvhez/környezethez. Kezdetként tehát a következő nyelveken készítettük el a modell-generátort:\n",
    "0. **c++**\n",
    "1. **octave** (matlab)\n",
    "2. **R**\n",
    "3. **python/numpy**\n",
    "4. **julia**\n",
    "\n",
    "A programok Jupyter-jegyzetfüzet formában megtalálhatóak a fenti [github](https://github.com/czylabsonasa/barabasinb) oldalon."
   ]
  },
  {
   "cell_type": "markdown",
   "metadata": {
    "collapsed": true
   },
   "source": [
    "# Mérési eredmények\n",
    "\n",
    "Az eredményekről itt található "
   ]
  },
  {
   "cell_type": "markdown",
   "metadata": {},
   "source": [
    "# További nyelvek\n",
    "Folyamatban van további elterjedt és Jupyterrel integrált nyelveken való megvalósítás (**fortran,golang**). Ezek eredményeit összefésüljük az eddigiekkel."
   ]
  },
  {
   "cell_type": "markdown",
   "metadata": {
    "collapsed": true
   },
   "source": [
    "# Melléktermék\n",
    "A Jupyter rendszerrel való ismerkedés egyik eredménye, a [http://kateto.net/networks-r-igraph](http://kateto.net/networks-r-igraph) -helyen található **R/igraph** ismertető adaptációja, mely \n",
    "megtekintető itt: [http://github.com/czylabsonasa/katetonb](http://github.com/czylabsonasa/katetonb) ."
   ]
  }
 ],
 "metadata": {
  "hide_input": false,
  "kernelspec": {
   "display_name": "Python 3",
   "language": "python",
   "name": "python3"
  },
  "language_info": {
   "codemirror_mode": {
    "name": "ipython",
    "version": 3
   },
   "file_extension": ".py",
   "mimetype": "text/x-python",
   "name": "python",
   "nbconvert_exporter": "python",
   "pygments_lexer": "ipython3",
   "version": "3.6.3"
  }
 },
 "nbformat": 4,
 "nbformat_minor": 2
}
